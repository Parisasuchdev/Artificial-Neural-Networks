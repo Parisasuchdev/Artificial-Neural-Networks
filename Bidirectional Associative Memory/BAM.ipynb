{
 "cells": [
  {
   "cell_type": "code",
   "execution_count": 1,
   "id": "b5271fa3",
   "metadata": {},
   "outputs": [],
   "source": [
    "import numpy as np"
   ]
  },
  {
   "cell_type": "code",
   "execution_count": 2,
   "id": "48deed12",
   "metadata": {},
   "outputs": [],
   "source": [
    "A = np.array([[1,0,0], [0,1,0], [0,0,1]]) #Input Array\n",
    "B = np.array([[0,0,1], [0,1,0], [1,0,0]]) #Associated Vector\n",
    "\n",
    "A1 = np.array([[0,0,1], [0,1,0], [1,0,0]]) #testing associative vector as input\n",
    "A2 = np.array([[1,0,1], [1,1,0], [0,1,1]]) #two changes\n",
    "A3 = np.array([[0,1,1], [1,0,1], [1,1,0]]) #incomplete"
   ]
  },
  {
   "cell_type": "code",
   "execution_count": 3,
   "id": "9fc35dbd",
   "metadata": {},
   "outputs": [],
   "source": [
    "class BAM(object):\n",
    "    def __init__(self):\n",
    "            self.epoch = 3\n",
    "    \n",
    "    def activate(self, A):\n",
    "        f = np.zeros((len(A),len(A)))\n",
    "        for i in range(len(A[1])):\n",
    "            for j in range(len(A[1])):\n",
    "                \n",
    "                if(A[i][j]==1):\n",
    "                    f[i][j] = 1\n",
    "                else:\n",
    "                    f[i][j] = -1\n",
    "        return f\n",
    "    \n",
    "    def getWeights(self, A, B):\n",
    "        W = np.dot(self.activate(A), self.activate(B))\n",
    "        return W\n",
    "    \n",
    "    def applyThreshold(self, A, W):\n",
    "        threshold1 = np.dot(A,W)\n",
    "        temp1 = np.zeros(len(threshold1))\n",
    "        for i in range(len(temp1)):\n",
    "            if(threshold1[i]<=0):\n",
    "                temp1[i] = 0\n",
    "            else:\n",
    "                temp1[i] = 1\n",
    "        print(f'forward:{A} ---> {threshold1} ---> {temp1}')\n",
    "    \n",
    "        threshold2 = np.dot(temp1,W.T)\n",
    "        temp2 = np.zeros(len(threshold2))\n",
    "        for i in range(len(temp2)):\n",
    "            if(threshold2[i]<=0):\n",
    "                temp2[i] = 0\n",
    "            else:\n",
    "                temp2[i] = 1\n",
    "        print(f'backward:{temp1} ---> {threshold2} ---> {temp2}')\n",
    "    \n",
    "        return temp2\n",
    "    \n",
    "    \n",
    "    def train(self, A, W):\n",
    "        #print(\"Pass 1\")\n",
    "        Adelta = self.applyThreshold(A, W)\n",
    "        #print(\"Epoch 2\")\n",
    "        Bdelta = self.applyThreshold(Adelta, W)\n",
    "        #print(\"Epoch 3\")\n",
    "        self.applyThreshold(Bdelta, W)\n",
    "        #print(\"\\n\")\n",
    "        \n",
    "    def main(self, A, B):\n",
    "        W = BAM.getWeights(A,B)\n",
    "        for i in range(len(A)):\n",
    "            print(\"\\nPattern\", i+1, \"\\n\")\n",
    "            BAM.train(A[i], W)\n",
    "        return W\n",
    "    "
   ]
  },
  {
   "cell_type": "code",
   "execution_count": 4,
   "id": "1e05f148",
   "metadata": {},
   "outputs": [],
   "source": [
    "BAM = BAM()"
   ]
  },
  {
   "cell_type": "code",
   "execution_count": 5,
   "id": "295cb821",
   "metadata": {},
   "outputs": [
    {
     "name": "stdout",
     "output_type": "stream",
     "text": [
      "\n",
      "Pattern 1 \n",
      "\n",
      "forward:[1 0 0] ---> [-1. -1.  3.] ---> [0. 0. 1.]\n",
      "backward:[0. 0. 1.] ---> [ 3. -1. -1.] ---> [1. 0. 0.]\n",
      "forward:[1. 0. 0.] ---> [-1. -1.  3.] ---> [0. 0. 1.]\n",
      "backward:[0. 0. 1.] ---> [ 3. -1. -1.] ---> [1. 0. 0.]\n",
      "forward:[1. 0. 0.] ---> [-1. -1.  3.] ---> [0. 0. 1.]\n",
      "backward:[0. 0. 1.] ---> [ 3. -1. -1.] ---> [1. 0. 0.]\n",
      "\n",
      "Pattern 2 \n",
      "\n",
      "forward:[0 1 0] ---> [-1.  3. -1.] ---> [0. 1. 0.]\n",
      "backward:[0. 1. 0.] ---> [-1.  3. -1.] ---> [0. 1. 0.]\n",
      "forward:[0. 1. 0.] ---> [-1.  3. -1.] ---> [0. 1. 0.]\n",
      "backward:[0. 1. 0.] ---> [-1.  3. -1.] ---> [0. 1. 0.]\n",
      "forward:[0. 1. 0.] ---> [-1.  3. -1.] ---> [0. 1. 0.]\n",
      "backward:[0. 1. 0.] ---> [-1.  3. -1.] ---> [0. 1. 0.]\n",
      "\n",
      "Pattern 3 \n",
      "\n",
      "forward:[0 0 1] ---> [ 3. -1. -1.] ---> [1. 0. 0.]\n",
      "backward:[1. 0. 0.] ---> [-1. -1.  3.] ---> [0. 0. 1.]\n",
      "forward:[0. 0. 1.] ---> [ 3. -1. -1.] ---> [1. 0. 0.]\n",
      "backward:[1. 0. 0.] ---> [-1. -1.  3.] ---> [0. 0. 1.]\n",
      "forward:[0. 0. 1.] ---> [ 3. -1. -1.] ---> [1. 0. 0.]\n",
      "backward:[1. 0. 0.] ---> [-1. -1.  3.] ---> [0. 0. 1.]\n"
     ]
    },
    {
     "data": {
      "text/plain": [
       "array([[-1., -1.,  3.],\n",
       "       [-1.,  3., -1.],\n",
       "       [ 3., -1., -1.]])"
      ]
     },
     "execution_count": 5,
     "metadata": {},
     "output_type": "execute_result"
    }
   ],
   "source": [
    "BAM.main(A, B)"
   ]
  },
  {
   "cell_type": "code",
   "execution_count": 6,
   "id": "6292a2f9",
   "metadata": {},
   "outputs": [
    {
     "name": "stdout",
     "output_type": "stream",
     "text": [
      "\n",
      "Pattern 1 \n",
      "\n",
      "forward:[0 0 1] ---> [-1. -1.  3.] ---> [0. 0. 1.]\n",
      "backward:[0. 0. 1.] ---> [-1. -1.  3.] ---> [0. 0. 1.]\n",
      "forward:[0. 0. 1.] ---> [-1. -1.  3.] ---> [0. 0. 1.]\n",
      "backward:[0. 0. 1.] ---> [-1. -1.  3.] ---> [0. 0. 1.]\n",
      "forward:[0. 0. 1.] ---> [-1. -1.  3.] ---> [0. 0. 1.]\n",
      "backward:[0. 0. 1.] ---> [-1. -1.  3.] ---> [0. 0. 1.]\n",
      "\n",
      "Pattern 2 \n",
      "\n",
      "forward:[0 1 0] ---> [-1.  3. -1.] ---> [0. 1. 0.]\n",
      "backward:[0. 1. 0.] ---> [-1.  3. -1.] ---> [0. 1. 0.]\n",
      "forward:[0. 1. 0.] ---> [-1.  3. -1.] ---> [0. 1. 0.]\n",
      "backward:[0. 1. 0.] ---> [-1.  3. -1.] ---> [0. 1. 0.]\n",
      "forward:[0. 1. 0.] ---> [-1.  3. -1.] ---> [0. 1. 0.]\n",
      "backward:[0. 1. 0.] ---> [-1.  3. -1.] ---> [0. 1. 0.]\n",
      "\n",
      "Pattern 3 \n",
      "\n",
      "forward:[1 0 0] ---> [ 3. -1. -1.] ---> [1. 0. 0.]\n",
      "backward:[1. 0. 0.] ---> [ 3. -1. -1.] ---> [1. 0. 0.]\n",
      "forward:[1. 0. 0.] ---> [ 3. -1. -1.] ---> [1. 0. 0.]\n",
      "backward:[1. 0. 0.] ---> [ 3. -1. -1.] ---> [1. 0. 0.]\n",
      "forward:[1. 0. 0.] ---> [ 3. -1. -1.] ---> [1. 0. 0.]\n",
      "backward:[1. 0. 0.] ---> [ 3. -1. -1.] ---> [1. 0. 0.]\n"
     ]
    },
    {
     "data": {
      "text/plain": [
       "array([[ 3., -1., -1.],\n",
       "       [-1.,  3., -1.],\n",
       "       [-1., -1.,  3.]])"
      ]
     },
     "execution_count": 6,
     "metadata": {},
     "output_type": "execute_result"
    }
   ],
   "source": [
    "A1 = np.array([[0,0,1], [0,1,0], [1,0,0]]) #testing associative vector as input\n",
    "BAM.main(A1, B)"
   ]
  },
  {
   "cell_type": "code",
   "execution_count": 7,
   "id": "34a59adf",
   "metadata": {},
   "outputs": [
    {
     "name": "stdout",
     "output_type": "stream",
     "text": [
      "\n",
      "Pattern 1 \n",
      "\n",
      "forward:[1 0 1] ---> [ 2. -2. -2.] ---> [1. 0. 0.]\n",
      "backward:[1. 0. 0.] ---> [ 1. -3.  1.] ---> [1. 0. 1.]\n",
      "forward:[1. 0. 1.] ---> [ 2. -2. -2.] ---> [1. 0. 0.]\n",
      "backward:[1. 0. 0.] ---> [ 1. -3.  1.] ---> [1. 0. 1.]\n",
      "forward:[1. 0. 1.] ---> [ 2. -2. -2.] ---> [1. 0. 0.]\n",
      "backward:[1. 0. 0.] ---> [ 1. -3.  1.] ---> [1. 0. 1.]\n",
      "\n",
      "Pattern 2 \n",
      "\n",
      "forward:[1 1 0] ---> [-2. -2.  2.] ---> [0. 0. 1.]\n",
      "backward:[0. 0. 1.] ---> [ 1.  1. -3.] ---> [1. 1. 0.]\n",
      "forward:[1. 1. 0.] ---> [-2. -2.  2.] ---> [0. 0. 1.]\n",
      "backward:[0. 0. 1.] ---> [ 1.  1. -3.] ---> [1. 1. 0.]\n",
      "forward:[1. 1. 0.] ---> [-2. -2.  2.] ---> [0. 0. 1.]\n",
      "backward:[0. 0. 1.] ---> [ 1.  1. -3.] ---> [1. 1. 0.]\n",
      "\n",
      "Pattern 3 \n",
      "\n",
      "forward:[0 1 1] ---> [-2.  2. -2.] ---> [0. 1. 0.]\n",
      "backward:[0. 1. 0.] ---> [-3.  1.  1.] ---> [0. 1. 1.]\n",
      "forward:[0. 1. 1.] ---> [-2.  2. -2.] ---> [0. 1. 0.]\n",
      "backward:[0. 1. 0.] ---> [-3.  1.  1.] ---> [0. 1. 1.]\n",
      "forward:[0. 1. 1.] ---> [-2.  2. -2.] ---> [0. 1. 0.]\n",
      "backward:[0. 1. 0.] ---> [-3.  1.  1.] ---> [0. 1. 1.]\n"
     ]
    },
    {
     "data": {
      "text/plain": [
       "array([[ 1., -3.,  1.],\n",
       "       [-3.,  1.,  1.],\n",
       "       [ 1.,  1., -3.]])"
      ]
     },
     "execution_count": 7,
     "metadata": {},
     "output_type": "execute_result"
    }
   ],
   "source": [
    "BAM.main(A2, B)"
   ]
  },
  {
   "cell_type": "code",
   "execution_count": 8,
   "id": "b392f86b",
   "metadata": {},
   "outputs": [
    {
     "name": "stdout",
     "output_type": "stream",
     "text": [
      "\n",
      "Pattern 1 \n",
      "\n",
      "forward:[0 1 1] ---> [-2. -2.  2.] ---> [0. 0. 1.]\n",
      "backward:[0. 0. 1.] ---> [-3.  1.  1.] ---> [0. 1. 1.]\n",
      "forward:[0. 1. 1.] ---> [-2. -2.  2.] ---> [0. 0. 1.]\n",
      "backward:[0. 0. 1.] ---> [-3.  1.  1.] ---> [0. 1. 1.]\n",
      "forward:[0. 1. 1.] ---> [-2. -2.  2.] ---> [0. 0. 1.]\n",
      "backward:[0. 0. 1.] ---> [-3.  1.  1.] ---> [0. 1. 1.]\n",
      "\n",
      "Pattern 2 \n",
      "\n",
      "forward:[1 0 1] ---> [-2.  2. -2.] ---> [0. 1. 0.]\n",
      "backward:[0. 1. 0.] ---> [ 1. -3.  1.] ---> [1. 0. 1.]\n",
      "forward:[1. 0. 1.] ---> [-2.  2. -2.] ---> [0. 1. 0.]\n",
      "backward:[0. 1. 0.] ---> [ 1. -3.  1.] ---> [1. 0. 1.]\n",
      "forward:[1. 0. 1.] ---> [-2.  2. -2.] ---> [0. 1. 0.]\n",
      "backward:[0. 1. 0.] ---> [ 1. -3.  1.] ---> [1. 0. 1.]\n",
      "\n",
      "Pattern 3 \n",
      "\n",
      "forward:[1 1 0] ---> [ 2. -2. -2.] ---> [1. 0. 0.]\n",
      "backward:[1. 0. 0.] ---> [ 1.  1. -3.] ---> [1. 1. 0.]\n",
      "forward:[1. 1. 0.] ---> [ 2. -2. -2.] ---> [1. 0. 0.]\n",
      "backward:[1. 0. 0.] ---> [ 1.  1. -3.] ---> [1. 1. 0.]\n",
      "forward:[1. 1. 0.] ---> [ 2. -2. -2.] ---> [1. 0. 0.]\n",
      "backward:[1. 0. 0.] ---> [ 1.  1. -3.] ---> [1. 1. 0.]\n"
     ]
    },
    {
     "data": {
      "text/plain": [
       "array([[ 1.,  1., -3.],\n",
       "       [ 1., -3.,  1.],\n",
       "       [-3.,  1.,  1.]])"
      ]
     },
     "execution_count": 8,
     "metadata": {},
     "output_type": "execute_result"
    }
   ],
   "source": [
    "BAM.main(A3, B)"
   ]
  },
  {
   "cell_type": "code",
   "execution_count": null,
   "id": "98fc9a16",
   "metadata": {},
   "outputs": [],
   "source": []
  }
 ],
 "metadata": {
  "kernelspec": {
   "display_name": "Python 3 (ipykernel)",
   "language": "python",
   "name": "python3"
  },
  "language_info": {
   "codemirror_mode": {
    "name": "ipython",
    "version": 3
   },
   "file_extension": ".py",
   "mimetype": "text/x-python",
   "name": "python",
   "nbconvert_exporter": "python",
   "pygments_lexer": "ipython3",
   "version": "3.9.7"
  }
 },
 "nbformat": 4,
 "nbformat_minor": 5
}
