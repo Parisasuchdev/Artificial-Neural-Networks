{
 "cells": [
  {
   "cell_type": "markdown",
   "id": "51907c6e",
   "metadata": {},
   "source": [
    "## Importing needed libraries"
   ]
  },
  {
   "cell_type": "code",
   "execution_count": 1,
   "id": "0a41756b",
   "metadata": {},
   "outputs": [],
   "source": [
    "#Name: Parisa Suchdev\n",
    "#collaborated with Anna Jane and Shaurya Swami\n",
    "\n",
    "import numpy as np"
   ]
  },
  {
   "cell_type": "markdown",
   "id": "5814a383",
   "metadata": {},
   "source": [
    "## Input array"
   ]
  },
  {
   "cell_type": "code",
   "execution_count": 2,
   "id": "dced2a98",
   "metadata": {},
   "outputs": [],
   "source": [
    "X = np.array([\n",
    "    [0,0,0,0],\n",
    "    [1,1,0,1],\n",
    "    [1,0,1,0],\n",
    "    \n",
    "])"
   ]
  },
  {
   "cell_type": "code",
   "execution_count": 3,
   "id": "9f11f94c",
   "metadata": {},
   "outputs": [],
   "source": [
    "Test = np.array([\n",
    "    [1,0,1,1], #should predict [1,0,1,0]\n",
    "    [1,1,1,1], #should predict [1,1,0,1]\n",
    "    [1,1,1,0], #should predict [1,0,1,0]\n",
    "    \n",
    "    [1,0,0,0], #should predict [1,0,1,0] or [0,0,0,0]\n",
    "    [0,0,0,1], #should predict [0,0,0,0] or [0,0,0,0]\n",
    "    [0,0,1,0] #should predict [1,0,1,0] or [0,0,0,0]\n",
    "])"
   ]
  },
  {
   "cell_type": "markdown",
   "id": "cbc1d50d",
   "metadata": {},
   "source": [
    "## Hopfield Network"
   ]
  },
  {
   "cell_type": "code",
   "execution_count": 5,
   "id": "ebfe3cbe",
   "metadata": {},
   "outputs": [],
   "source": [
    "class hopfieldNetwork(object):\n",
    "    def __init__(self):\n",
    "        self.n = X[0].size #getting size n to create weight matrix\n",
    "        self.W = np.zeros((self.n,self.n)) #creating zeros weight matrix of size n\n",
    "        self.savedW = self.learn(X) #saving the weights here because once calculated, they don't change\n",
    "        \n",
    "    #Creating learning rule\n",
    "    def learningRule(self, v):\n",
    "        self.f = np.zeros(len(v))\n",
    "        for i in range(len(v)):\n",
    "            if(v[i] == 1):\n",
    "                self.f[i] = 1\n",
    "            else:\n",
    "                self.f[i] = -1\n",
    "        return self.f\n",
    "    \n",
    "    #Learn Weights\n",
    "    def learn(self, X):\n",
    "        #passing input to the function\n",
    "        function = []\n",
    "        for i in range(len(X)):\n",
    "            function.append(self.learningRule(X[i])) #passing it through the learn function to apply rules on input\n",
    "        function = np.array(function)\n",
    "        \n",
    "        #Create Weight Matrix\n",
    "        for i in range(len(self.W)):\n",
    "            for j in range (i):\n",
    "                self.W[i][j] = np.sum(function[:,i]*function[:,j])\n",
    "                self.W[j][i] = np.sum(function[:,j]*function[:,i])\n",
    "        return self.W\n",
    "    \n",
    "    #Weights should not change!\n",
    "    \n",
    "    #A part of performace rule is to multiply input with weights\n",
    "    def getS(self, X):\n",
    "        self.sum = np.dot(X, self.savedW)\n",
    "        return self.sum\n",
    "    \n",
    "    #just getting the sum calculated ready to feed into performance rules\n",
    "    def perform(self, X):\n",
    "        gettingSum = self.getS(X)\n",
    "        self.su = []\n",
    "        for i in range(len(gettingSum)):\n",
    "            self.su.append(self.performanceRules(gettingSum[i]))\n",
    "        self.su = np.array(self.su)\n",
    "        return self.su\n",
    "    \n",
    "    #creating the performance rules\n",
    "    def performanceRules(self, s):\n",
    "        self.rule1 = np.zeros(len(s))\n",
    "        self.rule2 = np.zeros(len(s))\n",
    "    \n",
    "        #calculation for rule 1\n",
    "        for i in range(len(s)):\n",
    "            if(s[i] >= 0):\n",
    "                self.rule1[i] = 1\n",
    "            else:\n",
    "                self.rule1[i] = 0\n",
    "                \n",
    "        #calculation for rule 2    \n",
    "        for i in range(len(s)):\n",
    "            if(s[i] > 0):\n",
    "                self.rule2[i] = 1\n",
    "            elif(s[i] < 0):\n",
    "                self.rule2[i] = 0\n",
    "            elif(s[i] == 0):\n",
    "                self.rule2[i] = self.rule2[i]\n",
    "        return {'Rule1':self.rule1, \"Rule2\":self.rule2}"
   ]
  },
  {
   "cell_type": "code",
   "execution_count": 6,
   "id": "e87da562",
   "metadata": {},
   "outputs": [
    {
     "name": "stdout",
     "output_type": "stream",
     "text": [
      "Weight Matrix:\n",
      " [[ 0.  1.  1.  1.]\n",
      " [ 1.  0. -1.  3.]\n",
      " [ 1. -1.  0. -1.]\n",
      " [ 1.  3. -1.  0.]]\n"
     ]
    }
   ],
   "source": [
    "HN = hopfieldNetwork()\n",
    "print(\"Weight Matrix:\\n\",HN.learn(X))"
   ]
  },
  {
   "cell_type": "code",
   "execution_count": 7,
   "id": "ae9412df",
   "metadata": {},
   "outputs": [
    {
     "name": "stdout",
     "output_type": "stream",
     "text": [
      "Original Input:\n",
      " [[0 0 0 0]\n",
      " [1 1 0 1]\n",
      " [1 0 1 0]]\n",
      "Output Matrix:\n",
      " [{'Rule1': array([1., 1., 1., 1.]), 'Rule2': array([0., 0., 0., 0.])}\n",
      " {'Rule1': array([1., 1., 0., 1.]), 'Rule2': array([1., 1., 0., 1.])}\n",
      " {'Rule1': array([1., 1., 1., 1.]), 'Rule2': array([1., 0., 1., 0.])}]\n"
     ]
    }
   ],
   "source": [
    "print(\"Original Input:\\n\", X)\n",
    "print(\"Output Matrix:\\n\",HN.perform(X))"
   ]
  },
  {
   "cell_type": "code",
   "execution_count": 10,
   "id": "6ba02c2f",
   "metadata": {},
   "outputs": [
    {
     "name": "stdout",
     "output_type": "stream",
     "text": [
      "Test Input:\n",
      " [[1 0 1 1]\n",
      " [1 1 1 1]\n",
      " [1 1 1 0]\n",
      " [1 0 0 0]\n",
      " [0 0 0 1]\n",
      " [0 0 1 0]]\n",
      "\n",
      "    [1,0,1,1] #should ideally predict [1,0,1,0] @ 25% error\n",
      "    [1,1,1,1] #should ideally predict [1,1,0,1] @ 25% error\n",
      "    [1,1,1,0] #should ideally predict [1,0,1,0] @ 25% error\n",
      "    \n",
      "    [1,0,0,0] #should ideally predict [1,0,1,0] or [0,0,0,0]\n",
      "    [0,0,0,1] #should ideally predict [0,0,0,0]\n",
      "    [0,0,1,0] #should ideally predict [1,0,1,0] or [0,0,0,0]\n",
      "\n",
      "Output Matrix:\n",
      " [{'Rule1': array([1., 1., 1., 1.]), 'Rule2': array([1., 1., 0., 0.])}\n",
      " {'Rule1': array([1., 1., 0., 1.]), 'Rule2': array([1., 1., 0., 1.])}\n",
      " {'Rule1': array([1., 1., 1., 1.]), 'Rule2': array([1., 0., 0., 1.])}\n",
      " {'Rule1': array([1., 1., 1., 1.]), 'Rule2': array([0., 1., 1., 1.])}\n",
      " {'Rule1': array([1., 1., 0., 1.]), 'Rule2': array([1., 1., 0., 0.])}\n",
      " {'Rule1': array([1., 0., 1., 0.]), 'Rule2': array([1., 0., 0., 0.])}]\n"
     ]
    }
   ],
   "source": [
    "print(\"Test Input:\\n\", Test)\n",
    "print(\"\"\"\n",
    "    [1,0,1,1] #should ideally predict [1,0,1,0] @ 25% error\n",
    "    [1,1,1,1] #should ideally predict [1,1,0,1] @ 25% error\n",
    "    [1,1,1,0] #should ideally predict [1,0,1,0] @ 25% error\n",
    "    \n",
    "    [1,0,0,0] #should ideally predict [1,0,1,0] or [0,0,0,0]\n",
    "    [0,0,0,1] #should ideally predict [0,0,0,0]\n",
    "    [0,0,1,0] #should ideally predict [1,0,1,0] or [0,0,0,0]\n",
    "\"\"\")\n",
    "print(\"Output Matrix:\\n\",HN.perform(Test))"
   ]
  },
  {
   "cell_type": "code",
   "execution_count": null,
   "id": "222661ae",
   "metadata": {},
   "outputs": [],
   "source": []
  }
 ],
 "metadata": {
  "kernelspec": {
   "display_name": "Python 3 (ipykernel)",
   "language": "python",
   "name": "python3"
  },
  "language_info": {
   "codemirror_mode": {
    "name": "ipython",
    "version": 3
   },
   "file_extension": ".py",
   "mimetype": "text/x-python",
   "name": "python",
   "nbconvert_exporter": "python",
   "pygments_lexer": "ipython3",
   "version": "3.9.7"
  }
 },
 "nbformat": 4,
 "nbformat_minor": 5
}
